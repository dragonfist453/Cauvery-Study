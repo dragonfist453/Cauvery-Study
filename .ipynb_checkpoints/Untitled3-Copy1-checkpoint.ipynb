{
 "cells": [
  {
   "cell_type": "code",
   "execution_count": 1,
   "metadata": {},
   "outputs": [],
   "source": [
    "import pandas as pd\n",
    "import numpy as np"
   ]
  },
  {
   "cell_type": "code",
   "execution_count": 2,
   "metadata": {},
   "outputs": [],
   "source": [
    "data = pd.read_excel(\"Nitrate_conc_data.xlsx\")\n",
    "X = data.iloc[:,3].values\n",
    "y = data.iloc[:,4].values"
   ]
  },
  {
   "cell_type": "code",
   "execution_count": 3,
   "metadata": {},
   "outputs": [],
   "source": [
    "import statsmodels.api as sm"
   ]
  },
  {
   "cell_type": "code",
   "execution_count": 4,
   "metadata": {},
   "outputs": [],
   "source": [
    "X = sm.add_constant(X)\n",
    "regressor = sm.OLS(y,X).fit();"
   ]
  },
  {
   "cell_type": "code",
   "execution_count": 5,
   "metadata": {},
   "outputs": [
    {
     "name": "stdout",
     "output_type": "stream",
     "text": [
      "For every 1 ppm of Nitrogen concentration increase, there is increase of -0.012431809883213685 in pH\n",
      "At 0 ppm of Nitrogen concentration, there is 7.057132369936793 pH\n"
     ]
    }
   ],
   "source": [
    "slope = regressor.params\n",
    "print(f\"For every 1 ppm of Nitrogen concentration increase, there is increase of {slope[1]} in pH\")\n",
    "print(f\"At 0 ppm of Nitrogen concentration, there is {slope[0]} pH\")"
   ]
  }
 ],
 "metadata": {
  "kernelspec": {
   "display_name": "Python 3",
   "language": "python",
   "name": "python3"
  },
  "language_info": {
   "codemirror_mode": {
    "name": "ipython",
    "version": 3
   },
   "file_extension": ".py",
   "mimetype": "text/x-python",
   "name": "python",
   "nbconvert_exporter": "python",
   "pygments_lexer": "ipython3",
   "version": "3.7.3"
  }
 },
 "nbformat": 4,
 "nbformat_minor": 2
}
