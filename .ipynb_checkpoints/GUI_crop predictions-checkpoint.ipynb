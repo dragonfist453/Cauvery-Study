{
 "cells": [
  {
   "cell_type": "code",
   "execution_count": 1,
   "metadata": {
    "scrolled": true
   },
   "outputs": [],
   "source": [
    "import pandas as pd\n",
    "import numpy as np"
   ]
  },
  {
   "cell_type": "code",
   "execution_count": 2,
   "metadata": {},
   "outputs": [],
   "source": [
    "data_rice = pd.read_excel(\"/home/karthik/Cauvery Study/Crops_water_rain.xlsx\",0)\n",
    "X_rice = data_rice.iloc[:,[0,2,3]].values\n",
    "y_rice = data_rice.iloc[:,[4]].values \n",
    "y_rice = y_rice.reshape(-1,1)"
   ]
  },
  {
   "cell_type": "code",
   "execution_count": 3,
   "metadata": {},
   "outputs": [],
   "source": [
    "data_coffee = pd.read_excel(\"/home/karthik/Cauvery Study/Crops_water_rain.xlsx\",1)\n",
    "X_coffee = data_coffee.iloc[:,[0,2,3]].values\n",
    "y_coffee = data_coffee.iloc[:,[4]].values \n",
    "y_coffee = y_coffee.reshape(-1,1)"
   ]
  },
  {
   "cell_type": "code",
   "execution_count": 4,
   "metadata": {},
   "outputs": [],
   "source": [
    "data_pepper = pd.read_excel(\"/home/karthik/Cauvery Study/Crops_water_rain.xlsx\",2)\n",
    "X_pepper = data_pepper.iloc[:,[0,2,3]].values\n",
    "y_pepper = data_pepper.iloc[:,[4]].values \n",
    "y_pepper = y_pepper.reshape(-1,1)"
   ]
  },
  {
   "cell_type": "code",
   "execution_count": 5,
   "metadata": {},
   "outputs": [],
   "source": [
    "from sklearn.impute import SimpleImputer\n",
    "imputer = SimpleImputer(missing_values = 0 , strategy = 'median')"
   ]
  },
  {
   "cell_type": "code",
   "execution_count": 6,
   "metadata": {},
   "outputs": [],
   "source": [
    "imputer = imputer.fit(X_rice[:,:])\n",
    "X_rice[:,:] = imputer.transform(X_rice[:,:])\n",
    "imputer = imputer.fit(y_rice[:,:])\n",
    "y_rice[:,:] = imputer.transform(y_rice[:,:])"
   ]
  },
  {
   "cell_type": "code",
   "execution_count": 7,
   "metadata": {},
   "outputs": [],
   "source": [
    "imputer = imputer.fit(X_coffee[:,:])\n",
    "X_coffee[:,:] = imputer.transform(X_coffee[:,:])\n",
    "imputer = imputer.fit(y_coffee[:,:])\n",
    "y_coffee[:,:] = imputer.transform(y_coffee[:,:])"
   ]
  },
  {
   "cell_type": "code",
   "execution_count": 8,
   "metadata": {},
   "outputs": [],
   "source": [
    "imputer = imputer.fit(X_pepper[:,:])\n",
    "X_pepper[:,:] = imputer.transform(X_pepper[:,:])\n",
    "imputer = imputer.fit(y_pepper[:,:])\n",
    "y_pepper[:,:] = imputer.transform(y_pepper[:,:])"
   ]
  },
  {
   "cell_type": "raw",
   "metadata": {},
   "source": [
    "import keras\n",
    "from keras.models import Sequential\n",
    "from keras.layers import Dense"
   ]
  },
  {
   "cell_type": "raw",
   "metadata": {},
   "source": [
    "regressor_rice = Sequential()\n",
    "regressor_rice.add(Dense(output_dim = 4, init = 'uniform', activation = 'relu', input_dim = 3))\n",
    "regressor_rice.add(Dense(output_dim = 4, init = 'uniform', activation = 'relu'))\n",
    "regressor_rice.add(Dense(output_dim = 1, init = 'uniform', activation = 'relu'))\n",
    "regressor_rice.compile(optimizer = 'adam', loss = 'MSE')\n",
    "regressor_rice.fit(X_rice, y_rice, batch_size = 1, nb_epoch = 200)"
   ]
  },
  {
   "cell_type": "raw",
   "metadata": {},
   "source": [
    "regressor_coffee = Sequential()\n",
    "regressor_coffee.add(Dense(output_dim = 4, init = 'uniform', activation = 'relu', input_dim = 3))\n",
    "regressor_coffee.add(Dense(output_dim = 4, init = 'uniform', activation = 'relu'))\n",
    "regressor_coffee.add(Dense(output_dim = 1, init = 'uniform', activation = 'relu'))\n",
    "regressor_coffee.compile(optimizer = 'adam', loss = 'MSE')\n",
    "regressor_coffee.fit(X_coffee, y_coffee, batch_size = 1, nb_epoch = 200)"
   ]
  },
  {
   "cell_type": "raw",
   "metadata": {},
   "source": [
    "regressor_pepper = Sequential()\n",
    "regressor_pepper.add(Dense(output_dim = 4, init = 'uniform', activation = 'relu', input_dim = 3))\n",
    "regressor_pepper.add(Dense(output_dim = 4, init = 'uniform', activation = 'relu'))\n",
    "regressor_pepper.add(Dense(output_dim = 1, init = 'uniform', activation = 'relu'))\n",
    "regressor_pepper.compile(optimizer = 'adam', loss = 'MSE')\n",
    "regressor_pepper.fit(X_pepper, y_pepper, batch_size = 1, nb_epoch = 200)"
   ]
  },
  {
   "cell_type": "raw",
   "metadata": {},
   "source": [
    "regressor_rice.save(\"/home/karthik/Cauvery Study/rice_nn.hdf5\")"
   ]
  },
  {
   "cell_type": "raw",
   "metadata": {},
   "source": [
    "regressor_coffee.save(\"/home/karthik/Cauvery Study/coffee_nn.hdf5\")"
   ]
  },
  {
   "cell_type": "raw",
   "metadata": {},
   "source": [
    "regressor_pepper.save(\"/home/karthik/Cauvery Study/pepper_nn.hdf5\")"
   ]
  },
  {
   "cell_type": "raw",
   "metadata": {},
   "source": [
    "del regressor_rice\n",
    "del regressor_pepper\n",
    "del regressor_coffee"
   ]
  },
  {
   "cell_type": "raw",
   "metadata": {},
   "source": [
    "from keras.models import load_model\n",
    "regressor_rice = load_model(\"/home/karthik/Cauvery Study/rice_nn.hdf5\")\n",
    "regressor_coffee = load_model(\"/home/karthik/Cauvery Study/coffee_nn.hdf5\")\n",
    "regressor_pepper = load_model(\"/home/karthik/Cauvery Study/pepper_nn.hdf5\")"
   ]
  },
  {
   "cell_type": "raw",
   "metadata": {},
   "source": [
    "from sklearn.linear_model import LinearRegression"
   ]
  },
  {
   "cell_type": "raw",
   "metadata": {},
   "source": [
    "regressor_rice = LinearRegression()\n",
    "regressor_rice.fit(X_rice,y_rice)"
   ]
  },
  {
   "cell_type": "raw",
   "metadata": {},
   "source": [
    "regressor_coffee = LinearRegression()\n",
    "regressor_coffee.fit(X_coffee,y_coffee)"
   ]
  },
  {
   "cell_type": "raw",
   "metadata": {},
   "source": [
    "regressor_pepper = LinearRegression()\n",
    "regressor_pepper.fit(X_pepper,y_pepper)"
   ]
  },
  {
   "cell_type": "code",
   "execution_count": 9,
   "metadata": {},
   "outputs": [],
   "source": [
    "import statsmodels.api as sm"
   ]
  },
  {
   "cell_type": "code",
   "execution_count": 10,
   "metadata": {},
   "outputs": [],
   "source": [
    "X_rice = sm.add_constant(X_rice)\n",
    "regressor_rice = sm.OLS(y_rice,X_rice).fit()"
   ]
  },
  {
   "cell_type": "code",
   "execution_count": 11,
   "metadata": {},
   "outputs": [],
   "source": [
    "X_coffee = sm.add_constant(X_coffee)\n",
    "regressor_coffee = sm.OLS(y_coffee,X_coffee).fit()"
   ]
  },
  {
   "cell_type": "code",
   "execution_count": 12,
   "metadata": {},
   "outputs": [],
   "source": [
    "X_pepper = sm.add_constant(X_pepper)\n",
    "regressor_pepper = sm.OLS(y_pepper,X_pepper).fit()"
   ]
  },
  {
   "cell_type": "code",
   "execution_count": 13,
   "metadata": {},
   "outputs": [],
   "source": [
    "from ipywidgets import interactive, interact, fixed"
   ]
  },
  {
   "cell_type": "code",
   "execution_count": 14,
   "metadata": {},
   "outputs": [],
   "source": [
    "def getvalues_rice(\n",
    "              Rice_18 = 20,\n",
    "              Groundwater_last5 = 50, \n",
    "              Rainfall_max = 100,\n",
    "             ):\n",
    "    \n",
    "    predict_values_rice =[1,\n",
    "                      Rice_18,\n",
    "                      Groundwater_last5,\n",
    "                      Rainfall_max,\n",
    "                    ]\n",
    "    predict_values_rice = np.array(predict_values_rice)\n",
    "    predict_values_rice = predict_values_rice.reshape(1,-1)\n",
    "    y_pred_rice = regressor_rice.predict(predict_values_rice).astype(int)\n",
    "    print(f\"Rice for present year will be {y_pred_rice[0]}\")"
   ]
  },
  {
   "cell_type": "code",
   "execution_count": 15,
   "metadata": {},
   "outputs": [],
   "source": [
    "def getvalues_coffee(\n",
    "              Coffee_18 = 50,\n",
    "              Groundwater_last5 = 50, \n",
    "              Rainfall_max = 100,\n",
    "             ):\n",
    "    \n",
    "    predict_values_coffee =[1,\n",
    "                      Coffee_18,\n",
    "                      Groundwater_last5,\n",
    "                      Rainfall_max,\n",
    "                    ]\n",
    "    predict_values_coffee = np.array(predict_values_coffee)\n",
    "    predict_values_coffee = predict_values_coffee.reshape(1,-1)\n",
    "    y_pred_coffee = regressor_coffee.predict(predict_values_coffee).astype(int)\n",
    "    print(f\"Coffee for present year will be {y_pred_coffee[0]}\")"
   ]
  },
  {
   "cell_type": "code",
   "execution_count": 16,
   "metadata": {},
   "outputs": [],
   "source": [
    "def getvalues_pepper(\n",
    "              Pepper_18 = 45,\n",
    "              Groundwater_last5 = 50, \n",
    "              Rainfall_max = 100,\n",
    "             ):\n",
    "    \n",
    "    predict_values_pepper =[1,\n",
    "                      Pepper_18,\n",
    "                      Groundwater_last5,\n",
    "                      Rainfall_max,\n",
    "                    ]\n",
    "    predict_values_pepper = np.array(predict_values_pepper)\n",
    "    predict_values_pepper = predict_values_pepper.reshape(1,-1)\n",
    "    y_pred_pepper = regressor_pepper.predict(predict_values_pepper).astype(int)\n",
    "    print(f\"Pepper for present year will be {y_pred_pepper[0]}\")"
   ]
  },
  {
   "cell_type": "code",
   "execution_count": 17,
   "metadata": {},
   "outputs": [
    {
     "data": {
      "application/vnd.jupyter.widget-view+json": {
       "model_id": "e999394da9664bbe8da15416e13ca7d2",
       "version_major": 2,
       "version_minor": 0
      },
      "text/plain": [
       "interactive(children=(IntSlider(value=20, description='Rice_18', max=500, step=2), IntSlider(value=50, descrip…"
      ]
     },
     "metadata": {},
     "output_type": "display_data"
    },
    {
     "data": {
      "text/plain": [
       "<function __main__.getvalues_rice(Rice_18=20, Groundwater_last5=50, Rainfall_max=100)>"
      ]
     },
     "metadata": {},
     "output_type": "display_data"
    },
    {
     "data": {
      "application/vnd.jupyter.widget-view+json": {
       "model_id": "2f75b513c56a498c9f815bdb2216c56d",
       "version_major": 2,
       "version_minor": 0
      },
      "text/plain": [
       "interactive(children=(IntSlider(value=50, description='Coffee_18', max=1000, step=5), IntSlider(value=50, desc…"
      ]
     },
     "metadata": {},
     "output_type": "display_data"
    },
    {
     "data": {
      "text/plain": [
       "<function __main__.getvalues_coffee(Coffee_18=50, Groundwater_last5=50, Rainfall_max=100)>"
      ]
     },
     "metadata": {},
     "output_type": "display_data"
    },
    {
     "data": {
      "application/vnd.jupyter.widget-view+json": {
       "model_id": "7ae7ef79a6b54f069c207cb10935c59b",
       "version_major": 2,
       "version_minor": 0
      },
      "text/plain": [
       "interactive(children=(IntSlider(value=45, description='Pepper_18'), IntSlider(value=50, description='Groundwat…"
      ]
     },
     "metadata": {},
     "output_type": "display_data"
    },
    {
     "data": {
      "text/plain": [
       "<function __main__.getvalues_pepper(Pepper_18=45, Groundwater_last5=50, Rainfall_max=100)>"
      ]
     },
     "metadata": {},
     "output_type": "display_data"
    }
   ],
   "source": [
    "X_int_rice = interact(getvalues_rice,\n",
    "                  Rice_18 = (0,500,2),\n",
    "                  Groundwater_last5 = (0,160,1), \n",
    "                  Rainfall_max = (0,340,1),\n",
    "             );\n",
    "display(X_int_rice);\n",
    "X_int_coffee = interact(getvalues_coffee,\n",
    "                  Coffee_18 = (0,1000,5),\n",
    "                  Groundwater_last5 = (0,160,1), \n",
    "                  Rainfall_max = (0,340,1),\n",
    "             );\n",
    "display(X_int_coffee);\n",
    "X_int_pepper = interact(getvalues_pepper,\n",
    "                  Pepper_18 = (0,100,1),\n",
    "                  Groundwater_last5 = (0,160,1), \n",
    "                  Rainfall_max = (0,340,1),\n",
    "             );\n",
    "display(X_int_pepper);"
   ]
  },
  {
   "cell_type": "code",
   "execution_count": 18,
   "metadata": {},
   "outputs": [],
   "source": [
    "slopes_rice = regressor_rice.params\n",
    "slopes_coffee = regressor_coffee.params\n",
    "slopes_pepper = regressor_pepper.params"
   ]
  },
  {
   "cell_type": "code",
   "execution_count": 19,
   "metadata": {
    "scrolled": true
   },
   "outputs": [
    {
     "name": "stdout",
     "output_type": "stream",
     "text": [
      "For 1 unit of rice in 2018, there will be 0.6099242293282078 units of rice in the present year\n",
      "For 1 metre of groundwater depth, there will be -0.02713877228096949 units of rice in the present year\n",
      "For 1 mm of maximum rainfall occured in 2018, there will be -0.005644355121363985 units of rice in the present year\n"
     ]
    }
   ],
   "source": [
    "print(f\"For 1 unit of rice in 2018, there will be {slopes_rice[1]} units of rice in the present year\")\n",
    "print(f\"For 1 metre of groundwater depth, there will be {slopes_rice[2]} units of rice in the present year\")\n",
    "print(f\"For 1 mm of maximum rainfall occured in 2018, there will be {slopes_rice[3]} units of rice in the present year\")"
   ]
  },
  {
   "cell_type": "code",
   "execution_count": 20,
   "metadata": {
    "scrolled": true
   },
   "outputs": [
    {
     "name": "stdout",
     "output_type": "stream",
     "text": [
      "For 1 unit of coffee in 2018, there will be 0.3351974573324371 units of coffee in the present year\n",
      "For 1 metre of groundwater depth, there will be -0.005244791373633182 units of coffee in the present year\n",
      "For 1 mm of maximum rainfall occured in 2018, there will be 0.013468656401318578 units of coffee in the present year\n"
     ]
    }
   ],
   "source": [
    "print(f\"For 1 unit of coffee in 2018, there will be {slopes_coffee[1]} units of coffee in the present year\")\n",
    "print(f\"For 1 metre of groundwater depth, there will be {slopes_coffee[2]} units of coffee in the present year\")\n",
    "print(f\"For 1 mm of maximum rainfall occured in 2018, there will be {slopes_coffee[3]} units of coffee in the present year\")"
   ]
  },
  {
   "cell_type": "code",
   "execution_count": 21,
   "metadata": {},
   "outputs": [
    {
     "name": "stdout",
     "output_type": "stream",
     "text": [
      "For 1 unit of pepper in 2018, there will be 1.5178570817244603 units of pepper in the present year\n",
      "For 1 metre of groundwater depth, there will be -0.5309622371557087 units of pepper in the present year\n",
      "For 1 mm of maximum rainfall occured in 2018, there will be -0.37889828132198566 units of pepper in the present year\n"
     ]
    }
   ],
   "source": [
    "print(f\"For 1 unit of pepper in 2018, there will be {slopes_pepper[1]} units of pepper in the present year\")\n",
    "print(f\"For 1 metre of groundwater depth, there will be {slopes_pepper[2]} units of pepper in the present year\")\n",
    "print(f\"For 1 mm of maximum rainfall occured in 2018, there will be {slopes_pepper[3]} units of pepper in the present year\")"
   ]
  }
 ],
 "metadata": {
  "kernelspec": {
   "display_name": "Python 3",
   "language": "python",
   "name": "python3"
  },
  "language_info": {
   "codemirror_mode": {
    "name": "ipython",
    "version": 3
   },
   "file_extension": ".py",
   "mimetype": "text/x-python",
   "name": "python",
   "nbconvert_exporter": "python",
   "pygments_lexer": "ipython3",
   "version": "3.7.3"
  }
 },
 "nbformat": 4,
 "nbformat_minor": 2
}
