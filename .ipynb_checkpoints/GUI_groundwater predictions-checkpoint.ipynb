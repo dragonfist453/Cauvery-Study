{
 "cells": [
  {
   "cell_type": "code",
   "execution_count": 1,
   "metadata": {
    "scrolled": true
   },
   "outputs": [],
   "source": [
    "import pandas as pd\n",
    "import numpy as np"
   ]
  },
  {
   "cell_type": "code",
   "execution_count": 2,
   "metadata": {},
   "outputs": [],
   "source": [
    "\n",
    "def straightify(values):\n",
    "    returnval = []\n",
    "    for num in values:    \n",
    "        returnval.append(10/num)\n",
    "    return returnval\n",
    "   "
   ]
  },
  {
   "cell_type": "code",
   "execution_count": 3,
   "metadata": {},
   "outputs": [],
   "source": [
    "data = pd.read_excel(\"/home/karthik/Cauvery Study/dataset-whole-rainfall.xlsx\")\n",
    "X = data.iloc[:,[0,1,2,3,4,7,10]].values\n",
    "y = data.iloc[:,[9]].values "
   ]
  },
  {
   "cell_type": "code",
   "execution_count": 4,
   "metadata": {},
   "outputs": [],
   "source": [
    "from sklearn.impute import SimpleImputer\n",
    "imputer = SimpleImputer(missing_values = 0 , strategy = 'median')\n",
    "imputer = imputer.fit(X[:,:])\n",
    "X[:,:] = imputer.transform(X[:,:])"
   ]
  },
  {
   "cell_type": "code",
   "execution_count": 5,
   "metadata": {},
   "outputs": [],
   "source": [
    "\n",
    "for i in range(5):    \n",
    "    X[:,i] = straightify(X[:,i])\n",
    "    "
   ]
  },
  {
   "cell_type": "code",
   "execution_count": 6,
   "metadata": {},
   "outputs": [
    {
     "data": {
      "text/plain": [
       "'\\nfrom sklearn.preprocessing import StandardScaler\\nsc = StandardScaler()\\nX = sc.fit_transform(X)\\n'"
      ]
     },
     "execution_count": 6,
     "metadata": {},
     "output_type": "execute_result"
    }
   ],
   "source": [
    "'''\n",
    "from sklearn.preprocessing import StandardScaler\n",
    "sc = StandardScaler()\n",
    "X = sc.fit_transform(X)\n",
    "'''"
   ]
  },
  {
   "cell_type": "code",
   "execution_count": 7,
   "metadata": {},
   "outputs": [
    {
     "data": {
      "text/plain": [
       "\"\\nimport keras\\nfrom keras.models import Sequential\\nfrom keras.layers import Dense\\n\\nregressor = Sequential()\\nregressor.add(Dense(output_dim = 4, init = 'uniform', activation = 'relu', input_dim = 6))\\nregressor.add(Dense(output_dim = 4, init = 'uniform', activation = 'relu'))\\nregressor.add(Dense(output_dim = 1, init = 'uniform', activation = 'relu'))\\nregressor.compile(optimizer = 'adam', loss = 'MSE')\\nregressor.fit(X, y, batch_size = 1, nb_epoch = 200)\\n\""
      ]
     },
     "execution_count": 7,
     "metadata": {},
     "output_type": "execute_result"
    }
   ],
   "source": [
    "'''\n",
    "import keras\n",
    "from keras.models import Sequential\n",
    "from keras.layers import Dense\n",
    "\n",
    "regressor = Sequential()\n",
    "regressor.add(Dense(output_dim = 4, init = 'uniform', activation = 'relu', input_dim = 6))\n",
    "regressor.add(Dense(output_dim = 4, init = 'uniform', activation = 'relu'))\n",
    "regressor.add(Dense(output_dim = 1, init = 'uniform', activation = 'relu'))\n",
    "regressor.compile(optimizer = 'adam', loss = 'MSE')\n",
    "regressor.fit(X, y, batch_size = 1, nb_epoch = 200)\n",
    "'''"
   ]
  },
  {
   "cell_type": "code",
   "execution_count": 8,
   "metadata": {},
   "outputs": [
    {
     "data": {
      "text/plain": [
       "LinearRegression(copy_X=True, fit_intercept=True, n_jobs=None,\n",
       "         normalize=False)"
      ]
     },
     "execution_count": 8,
     "metadata": {},
     "output_type": "execute_result"
    }
   ],
   "source": [
    "\n",
    "from sklearn.linear_model import LinearRegression\n",
    "regressor = LinearRegression()\n",
    "regressor.fit(X,y)\n"
   ]
  },
  {
   "cell_type": "code",
   "execution_count": 9,
   "metadata": {},
   "outputs": [],
   "source": [
    "from ipywidgets import interactive, interact, fixed"
   ]
  },
  {
   "cell_type": "code",
   "execution_count": 10,
   "metadata": {},
   "outputs": [],
   "source": [
    "def getvalues(Bathing = 15, \n",
    "              Cooking = 8, \n",
    "              Washing = 15, \n",
    "              Watering_plants = 10, \n",
    "              Rearing_animals = 2, \n",
    "              Rainfall_max = 200,\n",
    "              #Rainfall_total = 2000,\n",
    "              #Rainfall_data = 10000,\n",
    "              Groundwater_last5 = 50 \n",
    "             ):\n",
    "    predict_values1 =[ Bathing, \n",
    "                      Cooking, \n",
    "                      Washing, \n",
    "                      Watering_plants, \n",
    "                      Rearing_animals, \n",
    "                      Rainfall_max,\n",
    "                      #Rainfall_total,\n",
    "                      #Rainfall_data,\n",
    "                      Groundwater_last5\n",
    "                    ]\n",
    "    for i in range(len(predict_values1)):\n",
    "        predict_values1[i] = float(predict_values1[i])\n",
    "        \n",
    "    predict_values1[:5] = straightify(predict_values1[:5])\n",
    "    predict_values1 = np.array(predict_values1)\n",
    "    predict_values1 = predict_values1.reshape(1,-1)\n",
    "    #predict_values1 = sc.fit_transform(predict_values1)\n",
    "    y_pred1 = regressor.predict(predict_values1).astype(int)\n",
    "    print(f\"Groundwater for present year will be {y_pred1[0][0]} metres below\")"
   ]
  },
  {
   "cell_type": "code",
   "execution_count": 11,
   "metadata": {},
   "outputs": [
    {
     "data": {
      "application/vnd.jupyter.widget-view+json": {
       "model_id": "ad777119acd54049956c73c892b35222",
       "version_major": 2,
       "version_minor": 0
      },
      "text/plain": [
       "interactive(children=(IntSlider(value=15, description='Bathing', max=25, min=1), IntSlider(value=8, descriptio…"
      ]
     },
     "metadata": {},
     "output_type": "display_data"
    },
    {
     "data": {
      "text/plain": [
       "<function __main__.getvalues(Bathing=15, Cooking=8, Washing=15, Watering_plants=10, Rearing_animals=2, Rainfall_max=200, Groundwater_last5=50)>"
      ]
     },
     "metadata": {},
     "output_type": "display_data"
    }
   ],
   "source": [
    "X1 = interact(getvalues,\n",
    "                 Bathing = (1,25,1), \n",
    "                 Cooking = (1,40,1), \n",
    "                 Washing = (1,30,1), \n",
    "                 Watering_plants = (1,25,1), \n",
    "                 Rearing_animals = (1,20,1), \n",
    "                 Rainfall_max = (0,340,1),\n",
    "                 #Rainfall_total = (0,6680,10), \n",
    "                 #Rainfall_data = (0,27000,100),\n",
    "                 Groundwater_last5 = (0,160,1)\n",
    "             )\n",
    "display(X1)"
   ]
  }
 ],
 "metadata": {
  "kernelspec": {
   "display_name": "Python 3",
   "language": "python",
   "name": "python3"
  },
  "language_info": {
   "codemirror_mode": {
    "name": "ipython",
    "version": 3
   },
   "file_extension": ".py",
   "mimetype": "text/x-python",
   "name": "python",
   "nbconvert_exporter": "python",
   "pygments_lexer": "ipython3",
   "version": "3.7.3"
  }
 },
 "nbformat": 4,
 "nbformat_minor": 2
}
